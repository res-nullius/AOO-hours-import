{
 "cells": [
  {
   "cell_type": "markdown",
   "metadata": {},
   "source": [
    "# Aloha Online Bulk Upload Guide\n",
    "*This guide is for setting up the program on your machine, maintenance, or modification purposes.*\n",
    "\n",
    "## Prerequisites:\n",
    "- [Python](https://www.python.org/downloads/) (3.3 or higher)\n",
    "- [Pip](https://jupyter.org/install) installer for downloading integral packages\n",
    "    - Pandas library\n",
    "    - Jupyter notebook, if updating this guide\n",
    "    \n",
    "## The notebook shows how to:\n",
    "- Import the necessary libraries\n",
    "- Stage the data that the program is run on\n",
    "- Run the program\n",
    "- Call API to upload site modifications"
   ]
  },
  {
   "cell_type": "markdown",
   "metadata": {},
   "source": [
    "### Optional: install jupyter notebook (classic)"
   ]
  },
  {
   "cell_type": "code",
   "execution_count": null,
   "metadata": {},
   "outputs": [],
   "source": [
    "pip install notebook"
   ]
  },
  {
   "cell_type": "markdown",
   "metadata": {},
   "source": [
    "*from the command line or terminal, navigate to the desired folder location using \"cd file\\path\\to\\your\\folder\" (reverse slashes if using terminal) and then typing \"jupyter notebook\" to create a new notebook*"
   ]
  },
  {
   "cell_type": "markdown",
   "metadata": {},
   "source": [
    "### Install the pandas library"
   ]
  },
  {
   "cell_type": "code",
   "execution_count": null,
   "metadata": {},
   "outputs": [],
   "source": [
    "pip install pandas"
   ]
  },
  {
   "cell_type": "markdown",
   "metadata": {},
   "source": [
    "Use the \"xlrd\" package to read Excel files, install using:"
   ]
  },
  {
   "cell_type": "code",
   "execution_count": null,
   "metadata": {},
   "outputs": [],
   "source": [
    "pip install xlrd"
   ]
  },
  {
   "cell_type": "markdown",
   "metadata": {},
   "source": [
    "Use the \"json\" package for formatting the web call, install using:"
   ]
  },
  {
   "cell_type": "code",
   "execution_count": null,
   "metadata": {},
   "outputs": [],
   "source": [
    "pip install json"
   ]
  },
  {
   "cell_type": "markdown",
   "metadata": {},
   "source": [
    "Import the libraries into the program"
   ]
  },
  {
   "cell_type": "code",
   "execution_count": 21,
   "metadata": {},
   "outputs": [],
   "source": [
    "import pandas as pd, xlrd, json\n",
    "from itertools import count"
   ]
  },
  {
   "cell_type": "markdown",
   "metadata": {},
   "source": [
    "Read the Excel file that contains the site hours"
   ]
  },
  {
   "cell_type": "code",
   "execution_count": 22,
   "metadata": {},
   "outputs": [],
   "source": [
    "excel_file = r'HoursChanges_BulkUpload.xlsx' # set the path to the upload template (when in the right folder with template, shift-click and copy the filepath)\n",
    "hours_sheet = 0 # set the sheet number with the hours on it, left to right counting from 0\n",
    "AO_Site_ID = 0 # set the column number with the AO Site IDs in it, counting from 0\n",
    "import_items = pd.read_excel(excel_file, sheet_name=hours_sheet, index_col=AO_Site_ID, usecols=\"C:AS\")\n",
    "df = pd.DataFrame(data=import_items)"
   ]
  },
  {
   "cell_type": "markdown",
   "metadata": {},
   "source": [
    "*Note: This presumes the Excel file is in the same directory (a.k.a. folder) as the program, but you can put the full filepath in the method call to ensure the program finds it*"
   ]
  },
  {
   "cell_type": "markdown",
   "metadata": {},
   "source": [
    "*Note: If you recieve a strange error (this does not include 'File not found') and no output, ensure the file is saved as an 'Excel Workbook' and not a 'Strict XML Open Spreadsheet' by opening the file, Saving As, and using the drop-down menu to select Excel Workbook.*"
   ]
  },
  {
   "cell_type": "markdown",
   "metadata": {},
   "source": [
    "This creates the JSON call container and a list containing weekdays (to loop through):"
   ]
  },
  {
   "cell_type": "code",
   "execution_count": 23,
   "metadata": {},
   "outputs": [],
   "source": [
    "sites = { \"Sites\": [] } # this creates the container for all the sites\n",
    "days = [ \"SUNDAY\", \"MONDAY\", \"TUESDAY\", \"WEDNESDAY\", \"THURSDAY\", \"FRIDAY\", \"SATURDAY\"] # simple list for changing the day of the week dynamically"
   ]
  },
  {
   "cell_type": "markdown",
   "metadata": {},
   "source": [
    "The main for lopp iterates through the template, gathering and organizing store data into a format that JSON can interpret:"
   ]
  },
  {
   "cell_type": "code",
   "execution_count": 24,
   "metadata": {},
   "outputs": [],
   "source": [
    "for i, site in enumerate(import_items):\n",
    "    if i < len(import_items.index) and i < 3: # remove 'and' when not testing\n",
    "        sites['Sites'].append( { \"SiteID\": int(import_items.index.values[i]), \"StoreHours\": [], \"DeliveryHours\": [] }) # creates a single site and puts it in Sites container\n",
    "        for j, day in zip(count(step=6), days): # loops thru the site's store hours for each day of week and adds it to a single site\n",
    "            sites['Sites'][i]['StoreHours'].append( {\"DayOfWeek\": day, \"IsClosed\": str(df.iloc[i,j+2]), \"OpeningTime\": str(df.iloc[i,j]), \"ClosingTime\": str(df.iloc[i,j+1]) } ) # site hours\n",
    "            sites['Sites'][i]['DeliveryHours'].append( {\"DayOfWeek\": day, \"IsClosed\": str(df.iloc[i,j+5]), \"Delivery1Start\": str(df.iloc[i,j+3]), \"Delivery1End\": str(df.iloc[i,j+4]) } ) # delivery hours"
   ]
  },
  {
   "cell_type": "markdown",
   "metadata": {},
   "source": [
    "Finally, the JSON call is put into a test file in the same directory for ease of use:"
   ]
  },
  {
   "cell_type": "code",
   "execution_count": 25,
   "metadata": {},
   "outputs": [],
   "source": [
    "with open(\"JSON-call.txt\", \"w\") as file: # creates & writes the JSON call to a text file\n",
    "    file.write(json.dumps(sites, indent=4))"
   ]
  },
  {
   "cell_type": "markdown",
   "metadata": {},
   "source": [
    "Note: This will overwrite a file with the same name or previously run version of the .txt file"
   ]
  },
  {
   "cell_type": "markdown",
   "metadata": {},
   "source": [
    "### And your done! The text file should now contain your API call"
   ]
  }
 ],
 "metadata": {
  "kernelspec": {
   "display_name": "Python 3",
   "language": "python",
   "name": "python3"
  },
  "language_info": {
   "codemirror_mode": {
    "name": "ipython",
    "version": 3
   },
   "file_extension": ".py",
   "mimetype": "text/x-python",
   "name": "python",
   "nbconvert_exporter": "python",
   "pygments_lexer": "ipython3",
   "version": "3.8.3"
  }
 },
 "nbformat": 4,
 "nbformat_minor": 4
}
